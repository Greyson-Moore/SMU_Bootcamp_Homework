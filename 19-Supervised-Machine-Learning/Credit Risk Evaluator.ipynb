{
 "cells": [
  {
   "cell_type": "code",
   "execution_count": 1,
   "metadata": {},
   "outputs": [],
   "source": [
    "import numpy as np\n",
    "import pandas as pd\n",
    "pd.set_option('display.max_columns', None)\n",
    "import matplotlib.pyplot as plt\n",
    "\n",
    "\n",
    "from sklearn.preprocessing import StandardScaler\n",
    "from sklearn.metrics import confusion_matrix, classification_report\n",
    "from sklearn.metrics import roc_curve, auc\n",
    "from sklearn.linear_model import LogisticRegression\n",
    "from sklearn.ensemble import RandomForestClassifier"
   ]
  },
  {
   "cell_type": "code",
   "execution_count": 2,
   "metadata": {},
   "outputs": [],
   "source": [
    "train_df = pd.read_csv('Resources/2019loans.csv')\n",
    "test_df = pd.read_csv('Resources/2020Q1loans.csv')"
   ]
  },
  {
   "cell_type": "code",
   "execution_count": 3,
   "metadata": {},
   "outputs": [
    {
     "name": "stdout",
     "output_type": "stream",
     "text": [
      "<class 'pandas.core.frame.DataFrame'>\n",
      "RangeIndex: 12180 entries, 0 to 12179\n",
      "Data columns (total 86 columns):\n",
      " #   Column                      Non-Null Count  Dtype  \n",
      "---  ------                      --------------  -----  \n",
      " 0   Unnamed: 0                  12180 non-null  int64  \n",
      " 1   index                       12180 non-null  int64  \n",
      " 2   loan_amnt                   12180 non-null  float64\n",
      " 3   int_rate                    12180 non-null  float64\n",
      " 4   installment                 12180 non-null  float64\n",
      " 5   home_ownership              12180 non-null  object \n",
      " 6   annual_inc                  12180 non-null  float64\n",
      " 7   verification_status         12180 non-null  object \n",
      " 8   loan_status                 12180 non-null  object \n",
      " 9   pymnt_plan                  12180 non-null  object \n",
      " 10  dti                         12180 non-null  float64\n",
      " 11  delinq_2yrs                 12180 non-null  float64\n",
      " 12  inq_last_6mths              12180 non-null  float64\n",
      " 13  open_acc                    12180 non-null  float64\n",
      " 14  pub_rec                     12180 non-null  float64\n",
      " 15  revol_bal                   12180 non-null  float64\n",
      " 16  total_acc                   12180 non-null  float64\n",
      " 17  initial_list_status         12180 non-null  object \n",
      " 18  out_prncp                   12180 non-null  float64\n",
      " 19  out_prncp_inv               12180 non-null  float64\n",
      " 20  total_pymnt                 12180 non-null  float64\n",
      " 21  total_pymnt_inv             12180 non-null  float64\n",
      " 22  total_rec_prncp             12180 non-null  float64\n",
      " 23  total_rec_int               12180 non-null  float64\n",
      " 24  total_rec_late_fee          12180 non-null  float64\n",
      " 25  recoveries                  12180 non-null  float64\n",
      " 26  collection_recovery_fee     12180 non-null  float64\n",
      " 27  last_pymnt_amnt             12180 non-null  float64\n",
      " 28  collections_12_mths_ex_med  12180 non-null  float64\n",
      " 29  policy_code                 12180 non-null  float64\n",
      " 30  application_type            12180 non-null  object \n",
      " 31  acc_now_delinq              12180 non-null  float64\n",
      " 32  tot_coll_amt                12180 non-null  float64\n",
      " 33  tot_cur_bal                 12180 non-null  float64\n",
      " 34  open_acc_6m                 12180 non-null  float64\n",
      " 35  open_act_il                 12180 non-null  float64\n",
      " 36  open_il_12m                 12180 non-null  float64\n",
      " 37  open_il_24m                 12180 non-null  float64\n",
      " 38  mths_since_rcnt_il          12180 non-null  float64\n",
      " 39  total_bal_il                12180 non-null  float64\n",
      " 40  il_util                     12180 non-null  float64\n",
      " 41  open_rv_12m                 12180 non-null  float64\n",
      " 42  open_rv_24m                 12180 non-null  float64\n",
      " 43  max_bal_bc                  12180 non-null  float64\n",
      " 44  all_util                    12180 non-null  float64\n",
      " 45  total_rev_hi_lim            12180 non-null  float64\n",
      " 46  inq_fi                      12180 non-null  float64\n",
      " 47  total_cu_tl                 12180 non-null  float64\n",
      " 48  inq_last_12m                12180 non-null  float64\n",
      " 49  acc_open_past_24mths        12180 non-null  float64\n",
      " 50  avg_cur_bal                 12180 non-null  float64\n",
      " 51  bc_open_to_buy              12180 non-null  float64\n",
      " 52  bc_util                     12180 non-null  float64\n",
      " 53  chargeoff_within_12_mths    12180 non-null  float64\n",
      " 54  delinq_amnt                 12180 non-null  float64\n",
      " 55  mo_sin_old_il_acct          12180 non-null  float64\n",
      " 56  mo_sin_old_rev_tl_op        12180 non-null  float64\n",
      " 57  mo_sin_rcnt_rev_tl_op       12180 non-null  float64\n",
      " 58  mo_sin_rcnt_tl              12180 non-null  float64\n",
      " 59  mort_acc                    12180 non-null  float64\n",
      " 60  mths_since_recent_bc        12180 non-null  float64\n",
      " 61  mths_since_recent_inq       12180 non-null  float64\n",
      " 62  num_accts_ever_120_pd       12180 non-null  float64\n",
      " 63  num_actv_bc_tl              12180 non-null  float64\n",
      " 64  num_actv_rev_tl             12180 non-null  float64\n",
      " 65  num_bc_sats                 12180 non-null  float64\n",
      " 66  num_bc_tl                   12180 non-null  float64\n",
      " 67  num_il_tl                   12180 non-null  float64\n",
      " 68  num_op_rev_tl               12180 non-null  float64\n",
      " 69  num_rev_accts               12180 non-null  float64\n",
      " 70  num_rev_tl_bal_gt_0         12180 non-null  float64\n",
      " 71  num_sats                    12180 non-null  float64\n",
      " 72  num_tl_120dpd_2m            12180 non-null  float64\n",
      " 73  num_tl_30dpd                12180 non-null  float64\n",
      " 74  num_tl_90g_dpd_24m          12180 non-null  float64\n",
      " 75  num_tl_op_past_12m          12180 non-null  float64\n",
      " 76  pct_tl_nvr_dlq              12180 non-null  float64\n",
      " 77  percent_bc_gt_75            12180 non-null  float64\n",
      " 78  pub_rec_bankruptcies        12180 non-null  float64\n",
      " 79  tax_liens                   12180 non-null  float64\n",
      " 80  tot_hi_cred_lim             12180 non-null  float64\n",
      " 81  total_bal_ex_mort           12180 non-null  float64\n",
      " 82  total_bc_limit              12180 non-null  float64\n",
      " 83  total_il_high_credit_limit  12180 non-null  float64\n",
      " 84  hardship_flag               12180 non-null  object \n",
      " 85  debt_settlement_flag        12180 non-null  object \n",
      "dtypes: float64(76), int64(2), object(8)\n",
      "memory usage: 8.0+ MB\n"
     ]
    }
   ],
   "source": [
    "train_df.info()"
   ]
  },
  {
   "cell_type": "code",
   "execution_count": 4,
   "metadata": {},
   "outputs": [
    {
     "name": "stdout",
     "output_type": "stream",
     "text": [
      "<class 'pandas.core.frame.DataFrame'>\n",
      "RangeIndex: 4702 entries, 0 to 4701\n",
      "Data columns (total 86 columns):\n",
      " #   Column                      Non-Null Count  Dtype  \n",
      "---  ------                      --------------  -----  \n",
      " 0   Unnamed: 0                  4702 non-null   int64  \n",
      " 1   index                       4702 non-null   int64  \n",
      " 2   loan_amnt                   4702 non-null   float64\n",
      " 3   int_rate                    4702 non-null   float64\n",
      " 4   installment                 4702 non-null   float64\n",
      " 5   home_ownership              4702 non-null   object \n",
      " 6   annual_inc                  4702 non-null   float64\n",
      " 7   verification_status         4702 non-null   object \n",
      " 8   loan_status                 4702 non-null   object \n",
      " 9   pymnt_plan                  4702 non-null   object \n",
      " 10  dti                         4702 non-null   float64\n",
      " 11  delinq_2yrs                 4702 non-null   float64\n",
      " 12  inq_last_6mths              4702 non-null   float64\n",
      " 13  open_acc                    4702 non-null   float64\n",
      " 14  pub_rec                     4702 non-null   float64\n",
      " 15  revol_bal                   4702 non-null   float64\n",
      " 16  total_acc                   4702 non-null   float64\n",
      " 17  initial_list_status         4702 non-null   object \n",
      " 18  out_prncp                   4702 non-null   float64\n",
      " 19  out_prncp_inv               4702 non-null   float64\n",
      " 20  total_pymnt                 4702 non-null   float64\n",
      " 21  total_pymnt_inv             4702 non-null   float64\n",
      " 22  total_rec_prncp             4702 non-null   float64\n",
      " 23  total_rec_int               4702 non-null   float64\n",
      " 24  total_rec_late_fee          4702 non-null   float64\n",
      " 25  recoveries                  4702 non-null   float64\n",
      " 26  collection_recovery_fee     4702 non-null   float64\n",
      " 27  last_pymnt_amnt             4702 non-null   float64\n",
      " 28  collections_12_mths_ex_med  4702 non-null   float64\n",
      " 29  policy_code                 4702 non-null   float64\n",
      " 30  application_type            4702 non-null   object \n",
      " 31  acc_now_delinq              4702 non-null   float64\n",
      " 32  tot_coll_amt                4702 non-null   float64\n",
      " 33  tot_cur_bal                 4702 non-null   float64\n",
      " 34  open_acc_6m                 4702 non-null   float64\n",
      " 35  open_act_il                 4702 non-null   float64\n",
      " 36  open_il_12m                 4702 non-null   float64\n",
      " 37  open_il_24m                 4702 non-null   float64\n",
      " 38  mths_since_rcnt_il          4702 non-null   float64\n",
      " 39  total_bal_il                4702 non-null   float64\n",
      " 40  il_util                     4702 non-null   float64\n",
      " 41  open_rv_12m                 4702 non-null   float64\n",
      " 42  open_rv_24m                 4702 non-null   float64\n",
      " 43  max_bal_bc                  4702 non-null   float64\n",
      " 44  all_util                    4702 non-null   float64\n",
      " 45  total_rev_hi_lim            4702 non-null   float64\n",
      " 46  inq_fi                      4702 non-null   float64\n",
      " 47  total_cu_tl                 4702 non-null   float64\n",
      " 48  inq_last_12m                4702 non-null   float64\n",
      " 49  acc_open_past_24mths        4702 non-null   float64\n",
      " 50  avg_cur_bal                 4702 non-null   float64\n",
      " 51  bc_open_to_buy              4702 non-null   float64\n",
      " 52  bc_util                     4702 non-null   float64\n",
      " 53  chargeoff_within_12_mths    4702 non-null   float64\n",
      " 54  delinq_amnt                 4702 non-null   float64\n",
      " 55  mo_sin_old_il_acct          4702 non-null   float64\n",
      " 56  mo_sin_old_rev_tl_op        4702 non-null   float64\n",
      " 57  mo_sin_rcnt_rev_tl_op       4702 non-null   float64\n",
      " 58  mo_sin_rcnt_tl              4702 non-null   float64\n",
      " 59  mort_acc                    4702 non-null   float64\n",
      " 60  mths_since_recent_bc        4702 non-null   float64\n",
      " 61  mths_since_recent_inq       4702 non-null   float64\n",
      " 62  num_accts_ever_120_pd       4702 non-null   float64\n",
      " 63  num_actv_bc_tl              4702 non-null   float64\n",
      " 64  num_actv_rev_tl             4702 non-null   float64\n",
      " 65  num_bc_sats                 4702 non-null   float64\n",
      " 66  num_bc_tl                   4702 non-null   float64\n",
      " 67  num_il_tl                   4702 non-null   float64\n",
      " 68  num_op_rev_tl               4702 non-null   float64\n",
      " 69  num_rev_accts               4702 non-null   float64\n",
      " 70  num_rev_tl_bal_gt_0         4702 non-null   float64\n",
      " 71  num_sats                    4702 non-null   float64\n",
      " 72  num_tl_120dpd_2m            4702 non-null   float64\n",
      " 73  num_tl_30dpd                4702 non-null   float64\n",
      " 74  num_tl_90g_dpd_24m          4702 non-null   float64\n",
      " 75  num_tl_op_past_12m          4702 non-null   float64\n",
      " 76  pct_tl_nvr_dlq              4702 non-null   float64\n",
      " 77  percent_bc_gt_75            4702 non-null   float64\n",
      " 78  pub_rec_bankruptcies        4702 non-null   float64\n",
      " 79  tax_liens                   4702 non-null   float64\n",
      " 80  tot_hi_cred_lim             4702 non-null   float64\n",
      " 81  total_bal_ex_mort           4702 non-null   float64\n",
      " 82  total_bc_limit              4702 non-null   float64\n",
      " 83  total_il_high_credit_limit  4702 non-null   float64\n",
      " 84  hardship_flag               4702 non-null   object \n",
      " 85  debt_settlement_flag        4702 non-null   object \n",
      "dtypes: float64(76), int64(2), object(8)\n",
      "memory usage: 3.1+ MB\n"
     ]
    }
   ],
   "source": [
    "test_df.info()"
   ]
  },
  {
   "cell_type": "code",
   "execution_count": 5,
   "metadata": {},
   "outputs": [],
   "source": [
    "train_df[\"loan_status\"] = [1 if x == \"high_risk\" else 0 for x in train_df.loan_status]\n",
    "test_df[\"loan_status\"] = [1 if x == \"high_risk\" else 0 for x in test_df.loan_status]"
   ]
  },
  {
   "cell_type": "code",
   "execution_count": 6,
   "metadata": {},
   "outputs": [
    {
     "data": {
      "text/plain": [
       "0    2351\n",
       "1    2351\n",
       "Name: loan_status, dtype: int64"
      ]
     },
     "execution_count": 6,
     "metadata": {},
     "output_type": "execute_result"
    }
   ],
   "source": [
    "test_df.loan_status.value_counts()"
   ]
  },
  {
   "cell_type": "code",
   "execution_count": 7,
   "metadata": {},
   "outputs": [],
   "source": [
    "train_temp = train_df.select_dtypes(include='object')\n",
    "test_temp =  test_df.select_dtypes(include='object')"
   ]
  },
  {
   "cell_type": "code",
   "execution_count": 8,
   "metadata": {},
   "outputs": [],
   "source": [
    "train_sub_df = pd.get_dummies(train_temp)\n",
    "test_sub_df = pd.get_dummies(test_temp)\n"
   ]
  },
  {
   "cell_type": "code",
   "execution_count": 9,
   "metadata": {},
   "outputs": [],
   "source": [
    "train_temp_num = train_df.select_dtypes(include=[\"float64\", \"int64\"])\n",
    "train_final_df = pd.merge(train_temp_num, train_sub_df, left_index=True, right_index=True)\n"
   ]
  },
  {
   "cell_type": "code",
   "execution_count": 10,
   "metadata": {},
   "outputs": [],
   "source": [
    "test_temp_num = test_df.select_dtypes(include=[\"float64\", \"int64\"])\n",
    "test_final_df = pd.merge(test_temp_num, test_sub_df, left_index=True, right_index=True)\n"
   ]
  },
  {
   "cell_type": "code",
   "execution_count": 11,
   "metadata": {},
   "outputs": [
    {
     "name": "stdout",
     "output_type": "stream",
     "text": [
      "debt_settlement_flag_Y\n"
     ]
    }
   ],
   "source": [
    "for column in train_final_df.columns:\n",
    "    if column not in test_final_df.columns:\n",
    "        print(column)\n",
    "        test_final_df[column] = 0"
   ]
  },
  {
   "cell_type": "code",
   "execution_count": 12,
   "metadata": {},
   "outputs": [],
   "source": [
    "train_final_df.drop(['Unnamed: 0', 'index', \"pymnt_plan_n\"], axis=1, inplace=True)\n",
    "test_final_df.drop(['Unnamed: 0', 'index', \"pymnt_plan_n\"], axis=1, inplace=True)"
   ]
  },
  {
   "cell_type": "code",
   "execution_count": 13,
   "metadata": {},
   "outputs": [],
   "source": [
    "X_train = train_final_df.drop(\"loan_status\", axis=1)\n",
    "y_train = train_final_df.loan_status\n",
    "\n",
    "X_test = test_final_df.drop(\"loan_status\", axis=1)\n",
    "y_test = test_final_df.loan_status"
   ]
  },
  {
   "cell_type": "code",
   "execution_count": 15,
   "metadata": {},
   "outputs": [
    {
     "name": "stdout",
     "output_type": "stream",
     "text": [
      "Training Score: 0.6498357963875205\n",
      "Testing Score: 0.5163760102084219\n",
      "\n",
      "CLASSIFICATION REPORT:\n",
      "              precision    recall  f1-score   support\n",
      "\n",
      "           0       0.51      0.73      0.60      2351\n",
      "           1       0.53      0.30      0.39      2351\n",
      "\n",
      "    accuracy                           0.52      4702\n",
      "   macro avg       0.52      0.52      0.49      4702\n",
      "weighted avg       0.52      0.52      0.49      4702\n",
      "\n",
      "\n",
      "CONFUSION MATRIX:\n",
      "[[1715  636]\n",
      " [1638  713]]\n"
     ]
    },
    {
     "name": "stderr",
     "output_type": "stream",
     "text": [
      "C:\\Users\\Greyson\\anaconda3\\lib\\site-packages\\sklearn\\linear_model\\_logistic.py:763: ConvergenceWarning: lbfgs failed to converge (status=1):\n",
      "STOP: TOTAL NO. of ITERATIONS REACHED LIMIT.\n",
      "\n",
      "Increase the number of iterations (max_iter) or scale the data as shown in:\n",
      "    https://scikit-learn.org/stable/modules/preprocessing.html\n",
      "Please also refer to the documentation for alternative solver options:\n",
      "    https://scikit-learn.org/stable/modules/linear_model.html#logistic-regression\n",
      "  n_iter_i = _check_optimize_result(\n"
     ]
    },
    {
     "data": {
      "image/png": "[encoded data removed]",
      "text/plain": [
       "<Figure size 432x288 with 1 Axes>"
      ]
     },
     "metadata": {
      "needs_background": "light"
     },
     "output_type": "display_data"
    }
   ],
   "source": [
    "lr = LogisticRegression()\n",
    "lr = lr.fit(X_train, y_train)\n",
    "\n",
    "y_pred = lr.predict(X_test)\n",
    "\n",
    "print(f'Training Score: {lr.score(X_train, y_train)}')\n",
    "print(f'Testing Score: {lr.score(X_test, y_test)}')\n",
    "print()\n",
    "print(\"CLASSIFICATION REPORT:\")\n",
    "print(classification_report(y_test, y_pred))\n",
    "print()\n",
    "print(\"CONFUSION MATRIX:\")\n",
    "print(confusion_matrix(y_test, y_pred))\n",
    "\n",
    "y_proba = lr.predict_proba(X_test)[:, 1]\n",
    "fpr, tpr, thresholds = roc_curve(y_test, y_proba)\n",
    "roc_auc = auc(fpr, tpr)\n",
    "\n",
    "plt.plot(fpr, tpr, label='ROC curve (area = %0.3f)' % roc_auc)\n",
    "plt.plot([0, 1], [0, 1], 'k--') \n",
    "plt.xlim([0.0, 1.0])\n",
    "plt.ylim([0.0, 1.0])\n",
    "plt.xlabel('False Positive Rate or (1 - Specifity)')\n",
    "plt.ylabel('True Positive Rate or (Sensitivity)')\n",
    "plt.title('Receiver Operating Characteristic')\n",
    "plt.legend(loc=\"lower right\")\n",
    "\n",
    "plt.show()"
   ]
  },
  {
   "cell_type": "code",
   "execution_count": 19,
   "metadata": {},
   "outputs": [
    {
     "name": "stdout",
     "output_type": "stream",
     "text": [
      "Training Score: 0.9963054187192119\n",
      "Testing Score: 0.5897490429604424\n",
      "\n",
      "CLASSIFICATION REPORT:\n",
      "              precision    recall  f1-score   support\n",
      "\n",
      "           0       0.62      0.46      0.53      2351\n",
      "           1       0.57      0.72      0.64      2351\n",
      "\n",
      "    accuracy                           0.59      4702\n",
      "   macro avg       0.60      0.59      0.58      4702\n",
      "weighted avg       0.60      0.59      0.58      4702\n",
      "\n",
      "\n",
      "CONFUSION MATRIX:\n",
      "[[1085 1266]\n",
      " [ 663 1688]]\n"
     ]
    },
    {
     "data": {
      "image/png": "[encoded data removed]",
      "text/plain": [
       "<Figure size 432x288 with 1 Axes>"
      ]
     },
     "metadata": {
      "needs_background": "light"
     },
     "output_type": "display_data"
    }
   ],
   "source": [
    "rf = RandomForestClassifier(random_state=1, n_estimators=15)\n",
    "rf = rf.fit(X_train, y_train)\n",
    "\n",
    "y_pred = rf.predict(X_test)\n",
    "\n",
    "print(f'Training Score: {rf.score(X_train, y_train)}')\n",
    "print(f'Testing Score: {rf.score(X_test, y_test)}')\n",
    "print()\n",
    "print(\"CLASSIFICATION REPORT:\")\n",
    "print(classification_report(y_test, y_pred))\n",
    "print()\n",
    "print(\"CONFUSION MATRIX:\")\n",
    "print(confusion_matrix(y_test, y_pred))\n",
    "\n",
    "# ROC Curve\n",
    "y_proba = rf.predict_proba(X_test)[:, 1]\n",
    "\n",
    "# Compute fpr, tpr, thresholds and roc auc\n",
    "fpr, tpr, thresholds = roc_curve(y_test, y_proba)\n",
    "roc_auc = auc(fpr, tpr)\n",
    "\n",
    "# Plot ROC curve\n",
    "plt.plot(fpr, tpr, label='ROC curve (area = %0.3f)' % roc_auc)\n",
    "plt.plot([0, 1], [0, 1], 'k--')  # random predictions curve\n",
    "plt.xlim([0.0, 1.0])\n",
    "plt.ylim([0.0, 1.0])\n",
    "plt.xlabel('False Positive Rate or (1 - Specifity)')\n",
    "plt.ylabel('True Positive Rate or (Sensitivity)')\n",
    "plt.title('Receiver Operating Characteristic')\n",
    "plt.legend(loc=\"lower right\")\n",
    "\n",
    "plt.show()"
   ]
  },
  {
   "cell_type": "code",
   "execution_count": 21,
   "metadata": {},
   "outputs": [],
   "source": [
    "scaler = StandardScaler()\n",
    "scaler = scaler.fit(X_train)\n",
    "\n",
    "X_train_scaled = scaler.transform(X_train)\n",
    "X_test_scaled = scaler.transform(X_test)"
   ]
  },
  {
   "cell_type": "code",
   "execution_count": 22,
   "metadata": {},
   "outputs": [
    {
     "name": "stdout",
     "output_type": "stream",
     "text": [
      "Training Score: 0.7078817733990148\n",
      "Testing Score: 0.767333049766057\n",
      "\n",
      "CLASSIFICATION REPORT:\n",
      "              precision    recall  f1-score   support\n",
      "\n",
      "           0       0.76      0.77      0.77      2351\n",
      "           1       0.77      0.76      0.77      2351\n",
      "\n",
      "    accuracy                           0.77      4702\n",
      "   macro avg       0.77      0.77      0.77      4702\n",
      "weighted avg       0.77      0.77      0.77      4702\n",
      "\n",
      "\n",
      "CONFUSION MATRIX:\n",
      "[[1819  532]\n",
      " [ 562 1789]]\n"
     ]
    },
    {
     "name": "stderr",
     "output_type": "stream",
     "text": [
      "C:\\Users\\Greyson\\anaconda3\\lib\\site-packages\\sklearn\\linear_model\\_logistic.py:763: ConvergenceWarning: lbfgs failed to converge (status=1):\n",
      "STOP: TOTAL NO. of ITERATIONS REACHED LIMIT.\n",
      "\n",
      "Increase the number of iterations (max_iter) or scale the data as shown in:\n",
      "    https://scikit-learn.org/stable/modules/preprocessing.html\n",
      "Please also refer to the documentation for alternative solver options:\n",
      "    https://scikit-learn.org/stable/modules/linear_model.html#logistic-regression\n",
      "  n_iter_i = _check_optimize_result(\n"
     ]
    },
    {
     "data": {
      "image/png": "[encoded data removed]",
      "text/plain": [
       "<Figure size 432x288 with 1 Axes>"
      ]
     },
     "metadata": {
      "needs_background": "light"
     },
     "output_type": "display_data"
    }
   ],
   "source": [
    "lr = LogisticRegression()\n",
    "lr = lr.fit(X_train_scaled, y_train)\n",
    "\n",
    "y_pred = lr.predict(X_test_scaled)\n",
    "\n",
    "print(f'Training Score: {lr.score(X_train_scaled, y_train)}')\n",
    "print(f'Testing Score: {lr.score(X_test_scaled, y_test)}')\n",
    "print()\n",
    "print(\"CLASSIFICATION REPORT:\")\n",
    "print(classification_report(y_test, y_pred))\n",
    "print()\n",
    "print(\"CONFUSION MATRIX:\")\n",
    "print(confusion_matrix(y_test, y_pred))\n",
    "\n",
    "# ROC Curve\n",
    "y_proba = lr.predict_proba(X_test_scaled)[:, 1]\n",
    "\n",
    "# Compute fpr, tpr, thresholds and roc auc\n",
    "fpr, tpr, thresholds = roc_curve(y_test, y_proba)\n",
    "roc_auc = auc(fpr, tpr)\n",
    "\n",
    "# Plot ROC curve\n",
    "plt.plot(fpr, tpr, label='ROC curve (area = %0.3f)' % roc_auc)\n",
    "plt.plot([0, 1], [0, 1], 'k--')  # random predictions curve\n",
    "plt.xlim([0.0, 1.0])\n",
    "plt.ylim([0.0, 1.0])\n",
    "plt.xlabel('False Positive Rate or (1 - Specifity)')\n",
    "plt.ylabel('True Positive Rate or (Sensitivity)')\n",
    "plt.title('Receiver Operating Characteristic')\n",
    "plt.legend(loc=\"lower right\")\n",
    "\n",
    "plt.show()"
   ]
  },
  {
   "cell_type": "code",
   "execution_count": 23,
   "metadata": {},
   "outputs": [
    {
     "name": "stdout",
     "output_type": "stream",
     "text": [
      "Training Score: 0.9963054187192119\n",
      "Testing Score: 0.5897490429604424\n",
      "\n",
      "CLASSIFICATION REPORT:\n",
      "              precision    recall  f1-score   support\n",
      "\n",
      "           0       0.62      0.46      0.53      2351\n",
      "           1       0.57      0.72      0.64      2351\n",
      "\n",
      "    accuracy                           0.59      4702\n",
      "   macro avg       0.60      0.59      0.58      4702\n",
      "weighted avg       0.60      0.59      0.58      4702\n",
      "\n",
      "\n",
      "CONFUSION MATRIX:\n",
      "[[1085 1266]\n",
      " [ 663 1688]]\n"
     ]
    },
    {
     "data": {
      "image/png": "[encoded data removed]",
      "text/plain": [
       "<Figure size 432x288 with 1 Axes>"
      ]
     },
     "metadata": {
      "needs_background": "light"
     },
     "output_type": "display_data"
    }
   ],
   "source": [
    "rf = RandomForestClassifier(random_state=1, n_estimators=15)\n",
    "rf = rf.fit(X_train, y_train)\n",
    "\n",
    "y_pred = rf.predict(X_test)\n",
    "\n",
    "print(f'Training Score: {rf.score(X_train, y_train)}')\n",
    "print(f'Testing Score: {rf.score(X_test, y_test)}')\n",
    "print()\n",
    "print(\"CLASSIFICATION REPORT:\")\n",
    "print(classification_report(y_test, y_pred))\n",
    "print()\n",
    "print(\"CONFUSION MATRIX:\")\n",
    "print(confusion_matrix(y_test, y_pred))\n",
    "\n",
    "# ROC Curve\n",
    "y_proba = rf.predict_proba(X_test)[:, 1]\n",
    "\n",
    "# Compute fpr, tpr, thresholds and roc auc\n",
    "fpr, tpr, thresholds = roc_curve(y_test, y_proba)\n",
    "roc_auc = auc(fpr, tpr)\n",
    "\n",
    "# Plot ROC curve\n",
    "plt.plot(fpr, tpr, label='ROC curve (area = %0.3f)' % roc_auc)\n",
    "plt.plot([0, 1], [0, 1], 'k--')  # random predictions curve\n",
    "plt.xlim([0.0, 1.0])\n",
    "plt.ylim([0.0, 1.0])\n",
    "plt.xlabel('False Positive Rate or (1 - Specifity)')\n",
    "plt.ylabel('True Positive Rate or (Sensitivity)')\n",
    "plt.title('Receiver Operating Characteristic')\n",
    "plt.legend(loc=\"lower right\")\n",
    "\n",
    "plt.show()"
   ]
  }
 ],
 "metadata": {
  "kernelspec": {
   "display_name": "Python 3",
   "language": "python",
   "name": "python3"
  },
  "language_info": {
   "codemirror_mode": {
    "name": "ipython",
    "version": 3
   },
   "file_extension": ".py",
   "mimetype": "text/x-python",
   "name": "python",
   "nbconvert_exporter": "python",
   "pygments_lexer": "ipython3",
   "version": "3.8.8"
  }
 },
 "nbformat": 4,
 "nbformat_minor": 4
}
