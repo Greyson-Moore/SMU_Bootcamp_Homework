{
 "cells": [
  {
   "cell_type": "markdown",
   "metadata": {},
   "source": [
    "## Heroes of Pymoli Purchase Data Analysis"
   ]
  },
  {
   "cell_type": "code",
   "execution_count": 11,
   "metadata": {},
   "outputs": [
    {
     "data": {
      "text/html": [
       "<div>\n",
       "<style scoped>\n",
       "    .dataframe tbody tr th:only-of-type {\n",
       "        vertical-align: middle;\n",
       "    }\n",
       "\n",
       "    .dataframe tbody tr th {\n",
       "        vertical-align: top;\n",
       "    }\n",
       "\n",
       "    .dataframe thead th {\n",
       "        text-align: right;\n",
       "    }\n",
       "</style>\n",
       "<table border=\"1\" class=\"dataframe\">\n",
       "  <thead>\n",
       "    <tr style=\"text-align: right;\">\n",
       "      <th></th>\n",
       "      <th>Purchase ID</th>\n",
       "      <th>SN</th>\n",
       "      <th>Age</th>\n",
       "      <th>Gender</th>\n",
       "      <th>Item ID</th>\n",
       "      <th>Item Name</th>\n",
       "      <th>Price</th>\n",
       "    </tr>\n",
       "  </thead>\n",
       "  <tbody>\n",
       "    <tr>\n",
       "      <th>0</th>\n",
       "      <td>0</td>\n",
       "      <td>Lisim78</td>\n",
       "      <td>20</td>\n",
       "      <td>Male</td>\n",
       "      <td>108</td>\n",
       "      <td>Extraction, Quickblade Of Trembling Hands</td>\n",
       "      <td>3.53</td>\n",
       "    </tr>\n",
       "    <tr>\n",
       "      <th>1</th>\n",
       "      <td>1</td>\n",
       "      <td>Lisovynya38</td>\n",
       "      <td>40</td>\n",
       "      <td>Male</td>\n",
       "      <td>143</td>\n",
       "      <td>Frenzied Scimitar</td>\n",
       "      <td>1.56</td>\n",
       "    </tr>\n",
       "    <tr>\n",
       "      <th>2</th>\n",
       "      <td>2</td>\n",
       "      <td>Ithergue48</td>\n",
       "      <td>24</td>\n",
       "      <td>Male</td>\n",
       "      <td>92</td>\n",
       "      <td>Final Critic</td>\n",
       "      <td>4.88</td>\n",
       "    </tr>\n",
       "    <tr>\n",
       "      <th>3</th>\n",
       "      <td>3</td>\n",
       "      <td>Chamassasya86</td>\n",
       "      <td>24</td>\n",
       "      <td>Male</td>\n",
       "      <td>100</td>\n",
       "      <td>Blindscythe</td>\n",
       "      <td>3.27</td>\n",
       "    </tr>\n",
       "    <tr>\n",
       "      <th>4</th>\n",
       "      <td>4</td>\n",
       "      <td>Iskosia90</td>\n",
       "      <td>23</td>\n",
       "      <td>Male</td>\n",
       "      <td>131</td>\n",
       "      <td>Fury</td>\n",
       "      <td>1.44</td>\n",
       "    </tr>\n",
       "    <tr>\n",
       "      <th>...</th>\n",
       "      <td>...</td>\n",
       "      <td>...</td>\n",
       "      <td>...</td>\n",
       "      <td>...</td>\n",
       "      <td>...</td>\n",
       "      <td>...</td>\n",
       "      <td>...</td>\n",
       "    </tr>\n",
       "    <tr>\n",
       "      <th>775</th>\n",
       "      <td>775</td>\n",
       "      <td>Aethedru70</td>\n",
       "      <td>21</td>\n",
       "      <td>Female</td>\n",
       "      <td>60</td>\n",
       "      <td>Wolf</td>\n",
       "      <td>3.54</td>\n",
       "    </tr>\n",
       "    <tr>\n",
       "      <th>776</th>\n",
       "      <td>776</td>\n",
       "      <td>Iral74</td>\n",
       "      <td>21</td>\n",
       "      <td>Male</td>\n",
       "      <td>164</td>\n",
       "      <td>Exiled Doomblade</td>\n",
       "      <td>1.63</td>\n",
       "    </tr>\n",
       "    <tr>\n",
       "      <th>777</th>\n",
       "      <td>777</td>\n",
       "      <td>Yathecal72</td>\n",
       "      <td>20</td>\n",
       "      <td>Male</td>\n",
       "      <td>67</td>\n",
       "      <td>Celeste, Incarnation of the Corrupted</td>\n",
       "      <td>3.46</td>\n",
       "    </tr>\n",
       "    <tr>\n",
       "      <th>778</th>\n",
       "      <td>778</td>\n",
       "      <td>Sisur91</td>\n",
       "      <td>7</td>\n",
       "      <td>Male</td>\n",
       "      <td>92</td>\n",
       "      <td>Final Critic</td>\n",
       "      <td>4.19</td>\n",
       "    </tr>\n",
       "    <tr>\n",
       "      <th>779</th>\n",
       "      <td>779</td>\n",
       "      <td>Ennrian78</td>\n",
       "      <td>24</td>\n",
       "      <td>Male</td>\n",
       "      <td>50</td>\n",
       "      <td>Dawn</td>\n",
       "      <td>4.60</td>\n",
       "    </tr>\n",
       "  </tbody>\n",
       "</table>\n",
       "<p>780 rows × 7 columns</p>\n",
       "</div>"
      ],
      "text/plain": [
       "     Purchase ID             SN  Age  Gender  Item ID  \\\n",
       "0              0        Lisim78   20    Male      108   \n",
       "1              1    Lisovynya38   40    Male      143   \n",
       "2              2     Ithergue48   24    Male       92   \n",
       "3              3  Chamassasya86   24    Male      100   \n",
       "4              4      Iskosia90   23    Male      131   \n",
       "..           ...            ...  ...     ...      ...   \n",
       "775          775     Aethedru70   21  Female       60   \n",
       "776          776         Iral74   21    Male      164   \n",
       "777          777     Yathecal72   20    Male       67   \n",
       "778          778        Sisur91    7    Male       92   \n",
       "779          779      Ennrian78   24    Male       50   \n",
       "\n",
       "                                     Item Name  Price  \n",
       "0    Extraction, Quickblade Of Trembling Hands   3.53  \n",
       "1                            Frenzied Scimitar   1.56  \n",
       "2                                 Final Critic   4.88  \n",
       "3                                  Blindscythe   3.27  \n",
       "4                                         Fury   1.44  \n",
       "..                                         ...    ...  \n",
       "775                                       Wolf   3.54  \n",
       "776                           Exiled Doomblade   1.63  \n",
       "777      Celeste, Incarnation of the Corrupted   3.46  \n",
       "778                               Final Critic   4.19  \n",
       "779                                       Dawn   4.60  \n",
       "\n",
       "[780 rows x 7 columns]"
      ]
     },
     "execution_count": 11,
     "metadata": {},
     "output_type": "execute_result"
    }
   ],
   "source": [
    "import pandas as pd\n",
    "\n",
    "file_to_load = \"Resources/purchase_data.csv\"\n",
    "\n",
    "purchase_data = pd.read_csv(file_to_load)\n",
    "purchase_data"
   ]
  },
  {
   "cell_type": "markdown",
   "metadata": {},
   "source": [
    "## Player Count"
   ]
  },
  {
   "cell_type": "markdown",
   "metadata": {},
   "source": [
    "Displays the Total Number of Players\n"
   ]
  },
  {
   "cell_type": "code",
   "execution_count": 2,
   "metadata": {},
   "outputs": [
    {
     "data": {
      "text/html": [
       "<style  type=\"text/css\" >\n",
       "</style><table id=\"T_b42df_\" ><thead>    <tr>        <th class=\"col_heading level0 col0\" >Total Players</th>    </tr></thead><tbody>\n",
       "                <tr>\n",
       "                                <td id=\"T_b42df_row0_col0\" class=\"data row0 col0\" >576</td>\n",
       "            </tr>\n",
       "    </tbody></table>"
      ],
      "text/plain": [
       "<pandas.io.formats.style.Styler at 0x21588415ac0>"
      ]
     },
     "execution_count": 2,
     "metadata": {},
     "output_type": "execute_result"
    }
   ],
   "source": [
    "total = len(purchase_data['SN'].unique())\n",
    "totalPlayers = {'Total Players' : [total]}\n",
    "tpDf = pd.DataFrame(totalPlayers, columns=['Total Players'])\n",
    "tpDf.style.hide_index()"
   ]
  },
  {
   "cell_type": "markdown",
   "metadata": {},
   "source": [
    "## Purchasing Analysis (Total)"
   ]
  },
  {
   "cell_type": "markdown",
   "metadata": {},
   "source": [
    "Displays Analysis of Purchases as a whole\n"
   ]
  },
  {
   "cell_type": "code",
   "execution_count": 3,
   "metadata": {
    "scrolled": true
   },
   "outputs": [
    {
     "data": {
      "text/html": [
       "<style  type=\"text/css\" >\n",
       "</style><table id=\"T_d8985_\" ><thead>    <tr>        <th class=\"col_heading level0 col0\" >Number of Unique Items</th>        <th class=\"col_heading level0 col1\" >Average Price</th>        <th class=\"col_heading level0 col2\" >Number of Purchases</th>        <th class=\"col_heading level0 col3\" >Total Revenue</th>    </tr></thead><tbody>\n",
       "                <tr>\n",
       "                                <td id=\"T_d8985_row0_col0\" class=\"data row0 col0\" >179</td>\n",
       "                        <td id=\"T_d8985_row0_col1\" class=\"data row0 col1\" >$3.05</td>\n",
       "                        <td id=\"T_d8985_row0_col2\" class=\"data row0 col2\" >780</td>\n",
       "                        <td id=\"T_d8985_row0_col3\" class=\"data row0 col3\" >$2,379.77</td>\n",
       "            </tr>\n",
       "    </tbody></table>"
      ],
      "text/plain": [
       "<pandas.io.formats.style.Styler at 0x2158924bd00>"
      ]
     },
     "execution_count": 3,
     "metadata": {},
     "output_type": "execute_result"
    }
   ],
   "source": [
    "uniqueItems = len(purchase_data['Item Name'].unique())\n",
    "totalRevenue = sum(purchase_data.Price)\n",
    "totalItems = len(purchase_data.Price)\n",
    "(averagePrice) =  totalRevenue / totalItems\n",
    "\n",
    "data = {'Number of Unique Items': [uniqueItems], 'Average Price': [averagePrice], 'Number of Purchases': [totalItems], 'Total Revenue': [totalRevenue]}  \n",
    "purchasingAnalysisDf =  pd.DataFrame(data)\n",
    "format_dict = {'Average Price':'${0:,.2f}', 'Total Revenue':'${0:,.2f}'}\n",
    "purchasingAnalysisDf.style.format(format_dict).hide_index()\n"
   ]
  },
  {
   "cell_type": "markdown",
   "metadata": {},
   "source": [
    "## Gender Demographics"
   ]
  },
  {
   "cell_type": "markdown",
   "metadata": {},
   "source": [
    "Displays the Gender Demographics of Purchases\n",
    "\n",
    "\n"
   ]
  },
  {
   "cell_type": "code",
   "execution_count": 4,
   "metadata": {},
   "outputs": [
    {
     "data": {
      "text/html": [
       "<style  type=\"text/css\" >\n",
       "</style><table id=\"T_d5dc6_\" ><thead>    <tr>        <th class=\"blank level0\" ></th>        <th class=\"col_heading level0 col0\" >Total Count</th>        <th class=\"col_heading level0 col1\" >Percentage of Players</th>    </tr></thead><tbody>\n",
       "                <tr>\n",
       "                        <th id=\"T_d5dc6_level0_row0\" class=\"row_heading level0 row0\" >Male</th>\n",
       "                        <td id=\"T_d5dc6_row0_col0\" class=\"data row0 col0\" >484</td>\n",
       "                        <td id=\"T_d5dc6_row0_col1\" class=\"data row0 col1\" >84.03%</td>\n",
       "            </tr>\n",
       "            <tr>\n",
       "                        <th id=\"T_d5dc6_level0_row1\" class=\"row_heading level0 row1\" >Female</th>\n",
       "                        <td id=\"T_d5dc6_row1_col0\" class=\"data row1 col0\" >81</td>\n",
       "                        <td id=\"T_d5dc6_row1_col1\" class=\"data row1 col1\" >14.06%</td>\n",
       "            </tr>\n",
       "            <tr>\n",
       "                        <th id=\"T_d5dc6_level0_row2\" class=\"row_heading level0 row2\" >Other/Non-Disclosed</th>\n",
       "                        <td id=\"T_d5dc6_row2_col0\" class=\"data row2 col0\" >11</td>\n",
       "                        <td id=\"T_d5dc6_row2_col1\" class=\"data row2 col1\" >1.91%</td>\n",
       "            </tr>\n",
       "    </tbody></table>"
      ],
      "text/plain": [
       "<pandas.io.formats.style.Styler at 0x21589320fa0>"
      ]
     },
     "execution_count": 4,
     "metadata": {},
     "output_type": "execute_result"
    }
   ],
   "source": [
    "maleTotal = len(purchase_data.loc[(purchase_data['Gender'] == 'Male'), :].drop_duplicates(subset='SN'))\n",
    "malePercent = (maleTotal / total)\n",
    "\n",
    "femaleTotal = len(purchase_data.loc[(purchase_data['Gender'] == 'Female'), :].drop_duplicates(subset='SN'))\n",
    "femalePercent = (femaleTotal / total)\n",
    "\n",
    "otherTotal = len(purchase_data.loc[(purchase_data['Gender'] == 'Other / Non-Disclosed'), :].drop_duplicates(subset='SN'))\n",
    "otherPercent = (otherTotal / total)\n",
    "\n",
    "columns = ['Total Count', 'Percentage of Players']\n",
    "rows = ['Male', 'Female', 'Other/Non-Disclosed']\n",
    "data1 = [(maleTotal, malePercent),(femaleTotal,femalePercent),(otherTotal,otherPercent)]\n",
    "genderDemoDf = pd.DataFrame(data1,columns= columns, index= rows)\n",
    "format_dict = {'Percentage of Players':'{:.2%}'}\n",
    "genderDemoDf.style.format(format_dict)\n"
   ]
  },
  {
   "cell_type": "markdown",
   "metadata": {},
   "source": [
    "\n",
    "## Purchasing Analysis (Gender)"
   ]
  },
  {
   "cell_type": "markdown",
   "metadata": {},
   "source": [
    "Displays Analysis of Purchases by Gender"
   ]
  },
  {
   "cell_type": "code",
   "execution_count": 12,
   "metadata": {},
   "outputs": [
    {
     "data": {
      "text/html": [
       "<style  type=\"text/css\" >\n",
       "</style><table id=\"T_ffe45_\" ><thead>    <tr>        <th class=\"blank level0\" ></th>        <th class=\"col_heading level0 col0\" >Purchase Count</th>        <th class=\"col_heading level0 col1\" >Average Purchase Price</th>        <th class=\"col_heading level0 col2\" >Total Purchase Value</th>        <th class=\"col_heading level0 col3\" >Avg Total Purchase per Person</th>    </tr></thead><tbody>\n",
       "                <tr>\n",
       "                        <th id=\"T_ffe45_level0_row0\" class=\"row_heading level0 row0\" >Female</th>\n",
       "                        <td id=\"T_ffe45_row0_col0\" class=\"data row0 col0\" >113</td>\n",
       "                        <td id=\"T_ffe45_row0_col1\" class=\"data row0 col1\" >$3.20</td>\n",
       "                        <td id=\"T_ffe45_row0_col2\" class=\"data row0 col2\" >$361.94</td>\n",
       "                        <td id=\"T_ffe45_row0_col3\" class=\"data row0 col3\" >$4.47</td>\n",
       "            </tr>\n",
       "            <tr>\n",
       "                        <th id=\"T_ffe45_level0_row1\" class=\"row_heading level0 row1\" >Male</th>\n",
       "                        <td id=\"T_ffe45_row1_col0\" class=\"data row1 col0\" >652</td>\n",
       "                        <td id=\"T_ffe45_row1_col1\" class=\"data row1 col1\" >$3.02</td>\n",
       "                        <td id=\"T_ffe45_row1_col2\" class=\"data row1 col2\" >$1,967.64</td>\n",
       "                        <td id=\"T_ffe45_row1_col3\" class=\"data row1 col3\" >$4.07</td>\n",
       "            </tr>\n",
       "            <tr>\n",
       "                        <th id=\"T_ffe45_level0_row2\" class=\"row_heading level0 row2\" >Other/Non-Disclosed</th>\n",
       "                        <td id=\"T_ffe45_row2_col0\" class=\"data row2 col0\" >15</td>\n",
       "                        <td id=\"T_ffe45_row2_col1\" class=\"data row2 col1\" >$3.35</td>\n",
       "                        <td id=\"T_ffe45_row2_col2\" class=\"data row2 col2\" >$50.19</td>\n",
       "                        <td id=\"T_ffe45_row2_col3\" class=\"data row2 col3\" >$4.56</td>\n",
       "            </tr>\n",
       "    </tbody></table>"
      ],
      "text/plain": [
       "<pandas.io.formats.style.Styler at 0x215883a96d0>"
      ]
     },
     "execution_count": 12,
     "metadata": {},
     "output_type": "execute_result"
    }
   ],
   "source": [
    "malePurchaseDf = purchase_data.loc[(purchase_data['Gender'] == 'Male'), :]\n",
    "malePurchaseCount = len(malePurchaseDf)\n",
    "malePurchaseRevenue = sum(malePurchaseDf.Price)\n",
    "malePurchaseAverage = malePurchaseRevenue / malePurchaseCount\n",
    "malePurchaseAveragePerson = malePurchaseRevenue / maleTotal\n",
    "\n",
    "femalePurchaseDf = purchase_data.loc[(purchase_data['Gender'] == 'Female'), :]\n",
    "femalePurchaseCount = len(femalePurchaseDf)\n",
    "femalePurchaseRevenue = sum(femalePurchaseDf.Price)\n",
    "femalePurchaseAverage = femalePurchaseRevenue / femalePurchaseCount\n",
    "femalePurchaseAveragePerson = femalePurchaseRevenue / femaleTotal\n",
    "\n",
    "otherPurchaseDf = purchase_data.loc[(purchase_data['Gender'] == 'Other / Non-Disclosed'), :]\n",
    "otherPurchaseCount = len(otherPurchaseDf)\n",
    "otherPurchaseRevenue = sum(otherPurchaseDf.Price)\n",
    "otherPurchaseAverage = otherPurchaseRevenue / otherPurchaseCount\n",
    "otherPurchaseAveragePerson = otherPurchaseRevenue / otherTotal\n",
    "\n",
    "columns2 = ['Purchase Count', 'Average Purchase Price', 'Total Purchase Value', 'Avg Total Purchase per Person']\n",
    "rows2 = ['Female','Male','Other/Non-Disclosed']\n",
    "data2 = [(femalePurchaseCount,femalePurchaseAverage,femalePurchaseRevenue,femalePurchaseAveragePerson),(malePurchaseCount,malePurchaseAverage,malePurchaseRevenue,malePurchaseAveragePerson),(otherPurchaseCount,otherPurchaseAverage,otherPurchaseRevenue,otherPurchaseAveragePerson)]\n",
    "genderAnalysisDf = pd.DataFrame(data2,columns= columns2,index= rows2)\n",
    "format_dict = {'Average Purchase Price':'${0:,.2f}','Total Purchase Value':'${0:,.2f}','Avg Total Purchase per Person':'${0:,.2f}'}\n",
    "\n",
    "genderAnalysisDf.style.format(format_dict)"
   ]
  },
  {
   "cell_type": "markdown",
   "metadata": {},
   "source": [
    "## Age Demographics"
   ]
  },
  {
   "cell_type": "markdown",
   "metadata": {},
   "source": [
    "Divides the Purchases by Age of User"
   ]
  },
  {
   "cell_type": "code",
   "execution_count": 6,
   "metadata": {},
   "outputs": [
    {
     "data": {
      "text/html": [
       "<style  type=\"text/css\" >\n",
       "</style><table id=\"T_8b28b_\" ><thead>    <tr>        <th class=\"blank level0\" ></th>        <th class=\"col_heading level0 col0\" >Total Count</th>        <th class=\"col_heading level0 col1\" >Percentage of Players</th>    </tr></thead><tbody>\n",
       "                <tr>\n",
       "                        <th id=\"T_8b28b_level0_row0\" class=\"row_heading level0 row0\" ><10</th>\n",
       "                        <td id=\"T_8b28b_row0_col0\" class=\"data row0 col0\" >17</td>\n",
       "                        <td id=\"T_8b28b_row0_col1\" class=\"data row0 col1\" >2.95%</td>\n",
       "            </tr>\n",
       "            <tr>\n",
       "                        <th id=\"T_8b28b_level0_row1\" class=\"row_heading level0 row1\" >10-14</th>\n",
       "                        <td id=\"T_8b28b_row1_col0\" class=\"data row1 col0\" >22</td>\n",
       "                        <td id=\"T_8b28b_row1_col1\" class=\"data row1 col1\" >3.82%</td>\n",
       "            </tr>\n",
       "            <tr>\n",
       "                        <th id=\"T_8b28b_level0_row2\" class=\"row_heading level0 row2\" >15-19</th>\n",
       "                        <td id=\"T_8b28b_row2_col0\" class=\"data row2 col0\" >107</td>\n",
       "                        <td id=\"T_8b28b_row2_col1\" class=\"data row2 col1\" >18.58%</td>\n",
       "            </tr>\n",
       "            <tr>\n",
       "                        <th id=\"T_8b28b_level0_row3\" class=\"row_heading level0 row3\" >20-24</th>\n",
       "                        <td id=\"T_8b28b_row3_col0\" class=\"data row3 col0\" >258</td>\n",
       "                        <td id=\"T_8b28b_row3_col1\" class=\"data row3 col1\" >44.79%</td>\n",
       "            </tr>\n",
       "            <tr>\n",
       "                        <th id=\"T_8b28b_level0_row4\" class=\"row_heading level0 row4\" >25-29</th>\n",
       "                        <td id=\"T_8b28b_row4_col0\" class=\"data row4 col0\" >77</td>\n",
       "                        <td id=\"T_8b28b_row4_col1\" class=\"data row4 col1\" >13.37%</td>\n",
       "            </tr>\n",
       "            <tr>\n",
       "                        <th id=\"T_8b28b_level0_row5\" class=\"row_heading level0 row5\" >30-34</th>\n",
       "                        <td id=\"T_8b28b_row5_col0\" class=\"data row5 col0\" >52</td>\n",
       "                        <td id=\"T_8b28b_row5_col1\" class=\"data row5 col1\" >9.03%</td>\n",
       "            </tr>\n",
       "            <tr>\n",
       "                        <th id=\"T_8b28b_level0_row6\" class=\"row_heading level0 row6\" >35-39</th>\n",
       "                        <td id=\"T_8b28b_row6_col0\" class=\"data row6 col0\" >31</td>\n",
       "                        <td id=\"T_8b28b_row6_col1\" class=\"data row6 col1\" >5.38%</td>\n",
       "            </tr>\n",
       "            <tr>\n",
       "                        <th id=\"T_8b28b_level0_row7\" class=\"row_heading level0 row7\" >40+</th>\n",
       "                        <td id=\"T_8b28b_row7_col0\" class=\"data row7 col0\" >12</td>\n",
       "                        <td id=\"T_8b28b_row7_col1\" class=\"data row7 col1\" >2.08%</td>\n",
       "            </tr>\n",
       "    </tbody></table>"
      ],
      "text/plain": [
       "<pandas.io.formats.style.Styler at 0x215895d4a30>"
      ]
     },
     "execution_count": 6,
     "metadata": {},
     "output_type": "execute_result"
    }
   ],
   "source": [
    "bins = [0,9,14,19,24,29,34,39,100]\n",
    "groupNames = [\"<10\", \"10-14\", \"15-19\", \"20-24\", \"25-29\",\"30-34\",\"35-39\",\"40+\"]\n",
    "purchase_data[\"AgeBracket\"] = pd.cut(purchase_data[\"Age\"], bins, labels=groupNames, include_lowest=True)\n",
    "\n",
    "nineAgeTotal = len(purchase_data.loc[(purchase_data['AgeBracket'] == '<10'), :].drop_duplicates(subset='SN'))\n",
    "nineAgePercent = (nineAgeTotal / total)\n",
    "\n",
    "fourteenAgeTotal = len(purchase_data.loc[(purchase_data['AgeBracket'] == '10-14'), :].drop_duplicates(subset='SN'))\n",
    "fourteenAgePercent = (fourteenAgeTotal / total)\n",
    "\n",
    "nineteenAgeTotal = len(purchase_data.loc[(purchase_data['AgeBracket'] == '15-19'), :].drop_duplicates(subset='SN'))\n",
    "nineteenAgePercent = (nineteenAgeTotal / total)\n",
    "\n",
    "twentyfourAgeTotal = len(purchase_data.loc[(purchase_data['AgeBracket'] == '20-24'), :].drop_duplicates(subset='SN'))\n",
    "twentyfourAgePercent = (twentyfourAgeTotal / total)\n",
    "\n",
    "twentynineAgeTotal = len(purchase_data.loc[(purchase_data['AgeBracket'] == '25-29'), :].drop_duplicates(subset='SN'))\n",
    "twentynineAgePercent = (twentynineAgeTotal / total)\n",
    "\n",
    "thirtyfourAgeTotal = len(purchase_data.loc[(purchase_data['AgeBracket'] == '30-34'), :].drop_duplicates(subset='SN'))\n",
    "thirtyfourAgePercent = (thirtyfourAgeTotal / total)\n",
    "\n",
    "thirtynineAgeTotal = len(purchase_data.loc[(purchase_data['AgeBracket'] == '35-39'), :].drop_duplicates(subset='SN'))\n",
    "thirtynineAgePercent = (thirtynineAgeTotal / total)\n",
    "\n",
    "fortyAgeTotal = len(purchase_data.loc[(purchase_data['AgeBracket'] == '40+'), :].drop_duplicates(subset='SN'))\n",
    "fortyAgePercent = (fortyAgeTotal / total)\n",
    "\n",
    "\n",
    "columns3 = [\"Total Count\",\"Percentage of Players\"]\n",
    "data3 = [(nineAgeTotal,nineAgePercent),(fourteenAgeTotal,fourteenAgePercent),(nineteenAgeTotal,nineteenAgePercent),(twentyfourAgeTotal,twentyfourAgePercent),(twentynineAgeTotal,twentynineAgePercent),(thirtyfourAgeTotal,thirtyfourAgePercent),(thirtynineAgeTotal,thirtynineAgePercent),(fortyAgeTotal,fortyAgePercent)]\n",
    "ageDemoDf = pd.DataFrame(data3,columns=columns3,index=groupNames)\n",
    "format_dict = {'Percentage of Players':'{:.2%}'}\n",
    "ageDemoDf.style.format(format_dict)"
   ]
  },
  {
   "cell_type": "markdown",
   "metadata": {},
   "source": [
    "## Purchasing Analysis (Age)"
   ]
  },
  {
   "cell_type": "markdown",
   "metadata": {},
   "source": [
    "Displays the Analysis of Purchases by Age of User"
   ]
  },
  {
   "cell_type": "code",
   "execution_count": 7,
   "metadata": {},
   "outputs": [
    {
     "data": {
      "text/html": [
       "<style  type=\"text/css\" >\n",
       "</style><table id=\"T_07b90_\" ><thead>    <tr>        <th class=\"blank level0\" ></th>        <th class=\"col_heading level0 col0\" >Purchase Count</th>        <th class=\"col_heading level0 col1\" >Average Purchase Price</th>        <th class=\"col_heading level0 col2\" >Total Purchase Value</th>        <th class=\"col_heading level0 col3\" >Avg Total Purchase per Person</th>    </tr>    <tr>        <th class=\"index_name level0\" >Age Ranges</th>        <th class=\"blank\" ></th>        <th class=\"blank\" ></th>        <th class=\"blank\" ></th>        <th class=\"blank\" ></th>    </tr></thead><tbody>\n",
       "                <tr>\n",
       "                        <th id=\"T_07b90_level0_row0\" class=\"row_heading level0 row0\" ><10</th>\n",
       "                        <td id=\"T_07b90_row0_col0\" class=\"data row0 col0\" >23</td>\n",
       "                        <td id=\"T_07b90_row0_col1\" class=\"data row0 col1\" >$3.35</td>\n",
       "                        <td id=\"T_07b90_row0_col2\" class=\"data row0 col2\" >$77.13</td>\n",
       "                        <td id=\"T_07b90_row0_col3\" class=\"data row0 col3\" >$4.54</td>\n",
       "            </tr>\n",
       "            <tr>\n",
       "                        <th id=\"T_07b90_level0_row1\" class=\"row_heading level0 row1\" >10-14</th>\n",
       "                        <td id=\"T_07b90_row1_col0\" class=\"data row1 col0\" >28</td>\n",
       "                        <td id=\"T_07b90_row1_col1\" class=\"data row1 col1\" >$2.96</td>\n",
       "                        <td id=\"T_07b90_row1_col2\" class=\"data row1 col2\" >$82.78</td>\n",
       "                        <td id=\"T_07b90_row1_col3\" class=\"data row1 col3\" >$3.76</td>\n",
       "            </tr>\n",
       "            <tr>\n",
       "                        <th id=\"T_07b90_level0_row2\" class=\"row_heading level0 row2\" >15-19</th>\n",
       "                        <td id=\"T_07b90_row2_col0\" class=\"data row2 col0\" >136</td>\n",
       "                        <td id=\"T_07b90_row2_col1\" class=\"data row2 col1\" >$3.04</td>\n",
       "                        <td id=\"T_07b90_row2_col2\" class=\"data row2 col2\" >$412.89</td>\n",
       "                        <td id=\"T_07b90_row2_col3\" class=\"data row2 col3\" >$3.86</td>\n",
       "            </tr>\n",
       "            <tr>\n",
       "                        <th id=\"T_07b90_level0_row3\" class=\"row_heading level0 row3\" >20-24</th>\n",
       "                        <td id=\"T_07b90_row3_col0\" class=\"data row3 col0\" >365</td>\n",
       "                        <td id=\"T_07b90_row3_col1\" class=\"data row3 col1\" >$3.05</td>\n",
       "                        <td id=\"T_07b90_row3_col2\" class=\"data row3 col2\" >$1,114.06</td>\n",
       "                        <td id=\"T_07b90_row3_col3\" class=\"data row3 col3\" >$4.32</td>\n",
       "            </tr>\n",
       "            <tr>\n",
       "                        <th id=\"T_07b90_level0_row4\" class=\"row_heading level0 row4\" >25-29</th>\n",
       "                        <td id=\"T_07b90_row4_col0\" class=\"data row4 col0\" >101</td>\n",
       "                        <td id=\"T_07b90_row4_col1\" class=\"data row4 col1\" >$2.90</td>\n",
       "                        <td id=\"T_07b90_row4_col2\" class=\"data row4 col2\" >$293.00</td>\n",
       "                        <td id=\"T_07b90_row4_col3\" class=\"data row4 col3\" >$3.81</td>\n",
       "            </tr>\n",
       "            <tr>\n",
       "                        <th id=\"T_07b90_level0_row5\" class=\"row_heading level0 row5\" >30-34</th>\n",
       "                        <td id=\"T_07b90_row5_col0\" class=\"data row5 col0\" >73</td>\n",
       "                        <td id=\"T_07b90_row5_col1\" class=\"data row5 col1\" >$2.93</td>\n",
       "                        <td id=\"T_07b90_row5_col2\" class=\"data row5 col2\" >$214.00</td>\n",
       "                        <td id=\"T_07b90_row5_col3\" class=\"data row5 col3\" >$4.12</td>\n",
       "            </tr>\n",
       "            <tr>\n",
       "                        <th id=\"T_07b90_level0_row6\" class=\"row_heading level0 row6\" >35-39</th>\n",
       "                        <td id=\"T_07b90_row6_col0\" class=\"data row6 col0\" >41</td>\n",
       "                        <td id=\"T_07b90_row6_col1\" class=\"data row6 col1\" >$3.60</td>\n",
       "                        <td id=\"T_07b90_row6_col2\" class=\"data row6 col2\" >$147.67</td>\n",
       "                        <td id=\"T_07b90_row6_col3\" class=\"data row6 col3\" >$4.76</td>\n",
       "            </tr>\n",
       "            <tr>\n",
       "                        <th id=\"T_07b90_level0_row7\" class=\"row_heading level0 row7\" >40+</th>\n",
       "                        <td id=\"T_07b90_row7_col0\" class=\"data row7 col0\" >13</td>\n",
       "                        <td id=\"T_07b90_row7_col1\" class=\"data row7 col1\" >$2.94</td>\n",
       "                        <td id=\"T_07b90_row7_col2\" class=\"data row7 col2\" >$38.24</td>\n",
       "                        <td id=\"T_07b90_row7_col3\" class=\"data row7 col3\" >$3.19</td>\n",
       "            </tr>\n",
       "    </tbody></table>"
      ],
      "text/plain": [
       "<pandas.io.formats.style.Styler at 0x2158945b130>"
      ]
     },
     "execution_count": 7,
     "metadata": {},
     "output_type": "execute_result"
    }
   ],
   "source": [
    "ninePurchaseDf = purchase_data.loc[(purchase_data['AgeBracket'] == '<10'), :]\n",
    "ninePurchaseCount = len(ninePurchaseDf)\n",
    "ninePurchaseRevenue = sum(ninePurchaseDf.Price)\n",
    "ninePurchaseAverage = ninePurchaseRevenue / ninePurchaseCount\n",
    "ninePurchaseAveragePerson = ninePurchaseRevenue / len(purchase_data.loc[(purchase_data['AgeBracket'] == '<10'), :].drop_duplicates(subset='SN'))\n",
    "\n",
    "fourteenPurchaseDf = purchase_data.loc[(purchase_data['AgeBracket'] == '10-14'), :]\n",
    "fourteenPurchaseCount = len(fourteenPurchaseDf)\n",
    "fourteenPurchaseRevenue = sum(fourteenPurchaseDf.Price)\n",
    "fourteenPurchaseAverage = fourteenPurchaseRevenue / fourteenPurchaseCount\n",
    "fourteenPurchaseAveragePerson = fourteenPurchaseRevenue / len(purchase_data.loc[(purchase_data['AgeBracket'] == '10-14'), :].drop_duplicates(subset='SN'))\n",
    "\n",
    "nineteenPurchaseDf = purchase_data.loc[(purchase_data['AgeBracket'] == '15-19'), :]\n",
    "nineteenPurchaseCount = len(nineteenPurchaseDf)\n",
    "nineteenPurchaseRevenue = sum(nineteenPurchaseDf.Price)\n",
    "nineteenPurchaseAverage = nineteenPurchaseRevenue / nineteenPurchaseCount\n",
    "nineteenPurchaseAveragePerson = nineteenPurchaseRevenue / len(purchase_data.loc[(purchase_data['AgeBracket'] == '15-19'), :].drop_duplicates(subset='SN'))\n",
    "\n",
    "twentyfourPurchaseDf = purchase_data.loc[(purchase_data['AgeBracket'] == '20-24'), :]\n",
    "twentyfourPurchaseCount = len(twentyfourPurchaseDf)\n",
    "twentyfourPurchaseRevenue = sum(twentyfourPurchaseDf.Price)\n",
    "twentyfourPurchaseAverage = twentyfourPurchaseRevenue / twentyfourPurchaseCount\n",
    "twentyfourPurchaseAveragePerson = twentyfourPurchaseRevenue / len(purchase_data.loc[(purchase_data['AgeBracket'] == '20-24'), :].drop_duplicates(subset='SN'))\n",
    "\n",
    "twentyninePurchaseDf = purchase_data.loc[(purchase_data['AgeBracket'] == '25-29'), :]\n",
    "twentyninePurchaseCount = len(twentyninePurchaseDf)\n",
    "twentyninePurchaseRevenue = sum(twentyninePurchaseDf.Price)\n",
    "twentyninePurchaseAverage = twentyninePurchaseRevenue / twentyninePurchaseCount\n",
    "twentyninePurchaseAveragePerson = twentyninePurchaseRevenue / len(purchase_data.loc[(purchase_data['AgeBracket'] == '25-29'), :].drop_duplicates(subset='SN'))\n",
    "\n",
    "thirtyfourPurchaseDf = purchase_data.loc[(purchase_data['AgeBracket'] == '30-34'), :]\n",
    "thirtyfourPurchaseCount = len(thirtyfourPurchaseDf)\n",
    "thirtyfourPurchaseRevenue = sum(thirtyfourPurchaseDf.Price)\n",
    "thirtyfourPurchaseAverage = thirtyfourPurchaseRevenue / thirtyfourPurchaseCount\n",
    "thirtyfourPurchaseAveragePerson = thirtyfourPurchaseRevenue / len(purchase_data.loc[(purchase_data['AgeBracket'] == '30-34'), :].drop_duplicates(subset='SN'))\n",
    "\n",
    "thirtyninePurchaseDf = purchase_data.loc[(purchase_data['AgeBracket'] == '35-39'), :]\n",
    "thirtyninePurchaseCount = len(thirtyninePurchaseDf)\n",
    "thirtyninePurchaseRevenue = sum(thirtyninePurchaseDf.Price)\n",
    "thirtyninePurchaseAverage = thirtyninePurchaseRevenue / thirtyninePurchaseCount\n",
    "thirtyninePurchaseAveragePerson = thirtyninePurchaseRevenue / len(purchase_data.loc[(purchase_data['AgeBracket'] == '35-39'), :].drop_duplicates(subset='SN'))\n",
    "\n",
    "fortyPurchaseDf = purchase_data.loc[(purchase_data['AgeBracket'] == '40+'), :]\n",
    "fortyPurchaseCount = len(fortyPurchaseDf)\n",
    "fortyPurchaseRevenue = sum(fortyPurchaseDf.Price)\n",
    "fortyPurchaseAverage = fortyPurchaseRevenue / fortyPurchaseCount\n",
    "fortyPurchaseAveragePerson = fortyPurchaseRevenue / len(purchase_data.loc[(purchase_data['AgeBracket'] == '40+'), :].drop_duplicates(subset='SN'))\n",
    "\n",
    "columns4 = ['Purchase Count', 'Average Purchase Price', 'Total Purchase Value', 'Avg Total Purchase per Person']\n",
    "data4 = [(ninePurchaseCount,ninePurchaseAverage,ninePurchaseRevenue,ninePurchaseAveragePerson),(fourteenPurchaseCount,fourteenPurchaseAverage,fourteenPurchaseRevenue,fourteenPurchaseAveragePerson),(nineteenPurchaseCount,nineteenPurchaseAverage,nineteenPurchaseRevenue,nineteenPurchaseAveragePerson),(twentyfourPurchaseCount,twentyfourPurchaseAverage,twentyfourPurchaseRevenue,twentyfourPurchaseAveragePerson),(twentyninePurchaseCount,twentyninePurchaseAverage,twentyninePurchaseRevenue,twentyninePurchaseAveragePerson),(thirtyfourPurchaseCount,thirtyfourPurchaseAverage,thirtyfourPurchaseRevenue,thirtyfourPurchaseAveragePerson),(thirtyninePurchaseCount,thirtyninePurchaseAverage,thirtyninePurchaseRevenue,thirtyninePurchaseAveragePerson),(fortyPurchaseCount,fortyPurchaseAverage,fortyPurchaseRevenue,fortyPurchaseAveragePerson)]\n",
    "ageAnalysis = pd.DataFrame(data4,columns=columns4,index=groupNames)\n",
    "ageAnalysis.index.name = \"Age Ranges\" \n",
    "format_dict = {'Average Purchase Price':'${0:,.2f}','Total Purchase Value':'${0:,.2f}','Avg Total Purchase per Person':'${0:,.2f}'}\n",
    "\n",
    "ageAnalysis.style.format(format_dict)"
   ]
  },
  {
   "cell_type": "markdown",
   "metadata": {},
   "source": [
    "## Top Spenders"
   ]
  },
  {
   "cell_type": "markdown",
   "metadata": {},
   "source": [
    "Displays the Top Spenders in the Data Set\n"
   ]
  },
  {
   "cell_type": "code",
   "execution_count": 8,
   "metadata": {},
   "outputs": [
    {
     "data": {
      "text/html": [
       "<style  type=\"text/css\" >\n",
       "</style><table id=\"T_e2657_\" ><thead>    <tr>        <th class=\"blank level0\" ></th>        <th class=\"col_heading level0 col0\" >Purchase Count</th>        <th class=\"col_heading level0 col1\" >Average Purchase Price</th>        <th class=\"col_heading level0 col2\" >Total Purchase Value</th>    </tr>    <tr>        <th class=\"index_name level0\" >SN</th>        <th class=\"blank\" ></th>        <th class=\"blank\" ></th>        <th class=\"blank\" ></th>    </tr></thead><tbody>\n",
       "                <tr>\n",
       "                        <th id=\"T_e2657_level0_row0\" class=\"row_heading level0 row0\" >Lisosia93</th>\n",
       "                        <td id=\"T_e2657_row0_col0\" class=\"data row0 col0\" >5</td>\n",
       "                        <td id=\"T_e2657_row0_col1\" class=\"data row0 col1\" >$3.79</td>\n",
       "                        <td id=\"T_e2657_row0_col2\" class=\"data row0 col2\" >$18.96</td>\n",
       "            </tr>\n",
       "            <tr>\n",
       "                        <th id=\"T_e2657_level0_row1\" class=\"row_heading level0 row1\" >Idastidru52</th>\n",
       "                        <td id=\"T_e2657_row1_col0\" class=\"data row1 col0\" >4</td>\n",
       "                        <td id=\"T_e2657_row1_col1\" class=\"data row1 col1\" >$3.86</td>\n",
       "                        <td id=\"T_e2657_row1_col2\" class=\"data row1 col2\" >$15.45</td>\n",
       "            </tr>\n",
       "            <tr>\n",
       "                        <th id=\"T_e2657_level0_row2\" class=\"row_heading level0 row2\" >Chamjask73</th>\n",
       "                        <td id=\"T_e2657_row2_col0\" class=\"data row2 col0\" >3</td>\n",
       "                        <td id=\"T_e2657_row2_col1\" class=\"data row2 col1\" >$4.61</td>\n",
       "                        <td id=\"T_e2657_row2_col2\" class=\"data row2 col2\" >$13.83</td>\n",
       "            </tr>\n",
       "            <tr>\n",
       "                        <th id=\"T_e2657_level0_row3\" class=\"row_heading level0 row3\" >Iral74</th>\n",
       "                        <td id=\"T_e2657_row3_col0\" class=\"data row3 col0\" >4</td>\n",
       "                        <td id=\"T_e2657_row3_col1\" class=\"data row3 col1\" >$3.40</td>\n",
       "                        <td id=\"T_e2657_row3_col2\" class=\"data row3 col2\" >$13.62</td>\n",
       "            </tr>\n",
       "            <tr>\n",
       "                        <th id=\"T_e2657_level0_row4\" class=\"row_heading level0 row4\" >Iskadarya95</th>\n",
       "                        <td id=\"T_e2657_row4_col0\" class=\"data row4 col0\" >3</td>\n",
       "                        <td id=\"T_e2657_row4_col1\" class=\"data row4 col1\" >$4.37</td>\n",
       "                        <td id=\"T_e2657_row4_col2\" class=\"data row4 col2\" >$13.10</td>\n",
       "            </tr>\n",
       "    </tbody></table>"
      ],
      "text/plain": [
       "<pandas.io.formats.style.Styler at 0x215862c7040>"
      ]
     },
     "execution_count": 8,
     "metadata": {},
     "output_type": "execute_result"
    }
   ],
   "source": [
    "spendTotal = purchase_data.groupby(['SN']).sum().Price\n",
    "spendAverage = purchase_data.groupby(['SN']).mean().Price\n",
    "spendCount = purchase_data.groupby(['SN']).count().Price\n",
    "\n",
    "spendDfTemp = pd.DataFrame({'Purchase Count' : spendCount, 'Average Purchase Price' : spendAverage, 'Total Purchase Value' : spendTotal})\n",
    "spendDf = spendDfTemp.sort_values(['Total Purchase Value'],ascending=False).head(5)\n",
    "format_dict = {'Average Purchase Price':'${0:,.2f}','Total Purchase Value':'${0:,.2f}'}\n",
    "spendDf.style.format(format_dict)"
   ]
  },
  {
   "cell_type": "markdown",
   "metadata": {},
   "source": [
    "## Most Popular Items"
   ]
  },
  {
   "cell_type": "markdown",
   "metadata": {},
   "source": [
    "The Most Popular Items by Purchase Count\n",
    "\n"
   ]
  },
  {
   "cell_type": "code",
   "execution_count": 9,
   "metadata": {},
   "outputs": [
    {
     "data": {
      "text/html": [
       "<style  type=\"text/css\" >\n",
       "</style><table id=\"T_d9032_\" ><thead>    <tr>        <th class=\"blank level0\" ></th>        <th class=\"col_heading level0 col0\" >Purchase Count</th>        <th class=\"col_heading level0 col1\" >Price</th>        <th class=\"col_heading level0 col2\" >Total Purchase Value</th>    </tr>    <tr>        <th class=\"index_name level0\" >Item Name</th>        <th class=\"blank\" ></th>        <th class=\"blank\" ></th>        <th class=\"blank\" ></th>    </tr></thead><tbody>\n",
       "                <tr>\n",
       "                        <th id=\"T_d9032_level0_row0\" class=\"row_heading level0 row0\" >Final Critic</th>\n",
       "                        <td id=\"T_d9032_row0_col0\" class=\"data row0 col0\" >13</td>\n",
       "                        <td id=\"T_d9032_row0_col1\" class=\"data row0 col1\" >$4.61</td>\n",
       "                        <td id=\"T_d9032_row0_col2\" class=\"data row0 col2\" >$59.99</td>\n",
       "            </tr>\n",
       "            <tr>\n",
       "                        <th id=\"T_d9032_level0_row1\" class=\"row_heading level0 row1\" >Oathbreaker, Last Hope of the Breaking Storm</th>\n",
       "                        <td id=\"T_d9032_row1_col0\" class=\"data row1 col0\" >12</td>\n",
       "                        <td id=\"T_d9032_row1_col1\" class=\"data row1 col1\" >$4.23</td>\n",
       "                        <td id=\"T_d9032_row1_col2\" class=\"data row1 col2\" >$50.76</td>\n",
       "            </tr>\n",
       "            <tr>\n",
       "                        <th id=\"T_d9032_level0_row2\" class=\"row_heading level0 row2\" >Persuasion</th>\n",
       "                        <td id=\"T_d9032_row2_col0\" class=\"data row2 col0\" >9</td>\n",
       "                        <td id=\"T_d9032_row2_col1\" class=\"data row2 col1\" >$3.22</td>\n",
       "                        <td id=\"T_d9032_row2_col2\" class=\"data row2 col2\" >$28.99</td>\n",
       "            </tr>\n",
       "            <tr>\n",
       "                        <th id=\"T_d9032_level0_row3\" class=\"row_heading level0 row3\" >Nirvana</th>\n",
       "                        <td id=\"T_d9032_row3_col0\" class=\"data row3 col0\" >9</td>\n",
       "                        <td id=\"T_d9032_row3_col1\" class=\"data row3 col1\" >$4.90</td>\n",
       "                        <td id=\"T_d9032_row3_col2\" class=\"data row3 col2\" >$44.10</td>\n",
       "            </tr>\n",
       "            <tr>\n",
       "                        <th id=\"T_d9032_level0_row4\" class=\"row_heading level0 row4\" >Extraction, Quickblade Of Trembling Hands</th>\n",
       "                        <td id=\"T_d9032_row4_col0\" class=\"data row4 col0\" >9</td>\n",
       "                        <td id=\"T_d9032_row4_col1\" class=\"data row4 col1\" >$3.53</td>\n",
       "                        <td id=\"T_d9032_row4_col2\" class=\"data row4 col2\" >$31.77</td>\n",
       "            </tr>\n",
       "    </tbody></table>"
      ],
      "text/plain": [
       "<pandas.io.formats.style.Styler at 0x215883a9b20>"
      ]
     },
     "execution_count": 9,
     "metadata": {},
     "output_type": "execute_result"
    }
   ],
   "source": [
    "itemCount = purchase_data.groupby(['Item Name']).count().Price\n",
    "itemTotal = purchase_data.groupby(['Item Name']).sum().Price\n",
    "itemPrice = itemTotal / itemCount\n",
    "\n",
    "itemDfTemp = pd.DataFrame({'Purchase Count' : itemCount, 'Price' : itemPrice, 'Total Purchase Value' : itemTotal})\n",
    "itemDf = itemDfTemp.sort_values(['Purchase Count'],ascending=False).head(5)\n",
    "format_dict = {'Price':'${0:,.2f}','Total Purchase Value':'${0:,.2f}'}\n",
    "itemDf.style.format(format_dict)"
   ]
  },
  {
   "cell_type": "markdown",
   "metadata": {},
   "source": [
    "## Most Profitable Items"
   ]
  },
  {
   "cell_type": "markdown",
   "metadata": {},
   "source": [
    "Displays Top Items by Total Purchase Value"
   ]
  },
  {
   "cell_type": "code",
   "execution_count": 10,
   "metadata": {
    "scrolled": true
   },
   "outputs": [
    {
     "data": {
      "text/html": [
       "<style  type=\"text/css\" >\n",
       "</style><table id=\"T_b5394_\" ><thead>    <tr>        <th class=\"blank level0\" ></th>        <th class=\"col_heading level0 col0\" >Purchase Count</th>        <th class=\"col_heading level0 col1\" >Price</th>        <th class=\"col_heading level0 col2\" >Total Purchase Value</th>    </tr>    <tr>        <th class=\"index_name level0\" >Item Name</th>        <th class=\"blank\" ></th>        <th class=\"blank\" ></th>        <th class=\"blank\" ></th>    </tr></thead><tbody>\n",
       "                <tr>\n",
       "                        <th id=\"T_b5394_level0_row0\" class=\"row_heading level0 row0\" >Final Critic</th>\n",
       "                        <td id=\"T_b5394_row0_col0\" class=\"data row0 col0\" >13</td>\n",
       "                        <td id=\"T_b5394_row0_col1\" class=\"data row0 col1\" >$4.61</td>\n",
       "                        <td id=\"T_b5394_row0_col2\" class=\"data row0 col2\" >$59.99</td>\n",
       "            </tr>\n",
       "            <tr>\n",
       "                        <th id=\"T_b5394_level0_row1\" class=\"row_heading level0 row1\" >Oathbreaker, Last Hope of the Breaking Storm</th>\n",
       "                        <td id=\"T_b5394_row1_col0\" class=\"data row1 col0\" >12</td>\n",
       "                        <td id=\"T_b5394_row1_col1\" class=\"data row1 col1\" >$4.23</td>\n",
       "                        <td id=\"T_b5394_row1_col2\" class=\"data row1 col2\" >$50.76</td>\n",
       "            </tr>\n",
       "            <tr>\n",
       "                        <th id=\"T_b5394_level0_row2\" class=\"row_heading level0 row2\" >Nirvana</th>\n",
       "                        <td id=\"T_b5394_row2_col0\" class=\"data row2 col0\" >9</td>\n",
       "                        <td id=\"T_b5394_row2_col1\" class=\"data row2 col1\" >$4.90</td>\n",
       "                        <td id=\"T_b5394_row2_col2\" class=\"data row2 col2\" >$44.10</td>\n",
       "            </tr>\n",
       "            <tr>\n",
       "                        <th id=\"T_b5394_level0_row3\" class=\"row_heading level0 row3\" >Fiery Glass Crusader</th>\n",
       "                        <td id=\"T_b5394_row3_col0\" class=\"data row3 col0\" >9</td>\n",
       "                        <td id=\"T_b5394_row3_col1\" class=\"data row3 col1\" >$4.58</td>\n",
       "                        <td id=\"T_b5394_row3_col2\" class=\"data row3 col2\" >$41.22</td>\n",
       "            </tr>\n",
       "            <tr>\n",
       "                        <th id=\"T_b5394_level0_row4\" class=\"row_heading level0 row4\" >Singed Scalpel</th>\n",
       "                        <td id=\"T_b5394_row4_col0\" class=\"data row4 col0\" >8</td>\n",
       "                        <td id=\"T_b5394_row4_col1\" class=\"data row4 col1\" >$4.35</td>\n",
       "                        <td id=\"T_b5394_row4_col2\" class=\"data row4 col2\" >$34.80</td>\n",
       "            </tr>\n",
       "    </tbody></table>"
      ],
      "text/plain": [
       "<pandas.io.formats.style.Styler at 0x2158955cbe0>"
      ]
     },
     "execution_count": 10,
     "metadata": {},
     "output_type": "execute_result"
    }
   ],
   "source": [
    "itemCountP = purchase_data.groupby(['Item Name']).count().Price\n",
    "itemTotalP = purchase_data.groupby(['Item Name']).sum().Price\n",
    "itemPriceP = itemTotal / itemCount\n",
    "\n",
    "\n",
    "itemDfPTemp = pd.DataFrame({'Purchase Count' : itemCountP, 'Price' : itemPriceP, 'Total Purchase Value' : itemTotalP})\n",
    "itemDfP = itemDfPTemp.sort_values(['Total Purchase Value'],ascending=False).head(5)\n",
    "format_dict = {'Price':'${0:,.2f}','Total Purchase Value':'${0:,.2f}'}\n",
    "itemDfP.style.format(format_dict)"
   ]
  },
  {
   "cell_type": "code",
   "execution_count": null,
   "metadata": {},
   "outputs": [],
   "source": []
  }
 ],
 "metadata": {
  "anaconda-cloud": {},
  "kernel_info": {
   "name": "python3"
  },
  "kernelspec": {
   "display_name": "Python 3",
   "language": "python",
   "name": "python3"
  },
  "language_info": {
   "codemirror_mode": {
    "name": "ipython",
    "version": 3
   },
   "file_extension": ".py",
   "mimetype": "text/x-python",
   "name": "python",
   "nbconvert_exporter": "python",
   "pygments_lexer": "ipython3",
   "version": "3.8.8"
  },
  "latex_envs": {
   "LaTeX_envs_menu_present": true,
   "autoclose": false,
   "autocomplete": true,
   "bibliofile": "biblio.bib",
   "cite_by": "apalike",
   "current_citInitial": 1,
   "eqLabelWithNumbers": true,
   "eqNumInitial": 1,
   "hotkeys": {
    "equation": "Ctrl-E",
    "itemize": "Ctrl-I"
   },
   "labels_anchors": false,
   "latex_user_defs": false,
   "report_style_numbering": false,
   "user_envs_cfg": false
  },
  "nteract": {
   "version": "0.2.0"
  }
 },
 "nbformat": 4,
 "nbformat_minor": 2
}
